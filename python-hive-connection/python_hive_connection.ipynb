{
 "cells": [
  {
   "cell_type": "code",
   "execution_count": null,
   "id": "73993b7d",
   "metadata": {},
   "outputs": [],
   "source": [
    "!pip install pyhive"
   ]
  },
  {
   "cell_type": "code",
   "execution_count": null,
   "id": "52c253a8",
   "metadata": {},
   "outputs": [],
   "source": [
    "from pyhive import hive\n",
    "hostname='192.168.56.101'\n",
    "port=22\n",
    "user='cloudera'\n",
    "password='cloudera'\n",
    "database=\"hive_class_b1\"\n",
    "\n",
    "\n",
    "def hiveconnection(hst_nme, port, usr, pwd, dbse) :\n",
    "    \n",
    "    conn = hive.Connection(host=hst_nme, port=port, username=usr, password =pwd, database= dbse, auth='CUSTOM')\n",
    "    \n",
    "    cursr= conn.cursor()\n",
    "    cursr.execute('select * from hive_class_b1.department_data limit 3')\n",
    "    \n",
    "    result = cursr.fetchall()\n",
    "    \n",
    "    return result\n",
    "\n",
    "dataset= hiveconnection(hostname, port,user,password,database)\n",
    "print(dataset)"
   ]
  },
  {
   "cell_type": "markdown",
   "id": "173d2d0d",
   "metadata": {},
   "source": [
    "# Join"
   ]
  },
  {
   "cell_type": "code",
   "execution_count": null,
   "id": "fa7af619",
   "metadata": {},
   "outputs": [],
   "source": [
    "from pyhive import hive\n",
    "host_name = \"192.168.56.101\"\n",
    "port = 22\n",
    "user = \"cloudera\"\n",
    "password = \"cloudera\"\n",
    "database=\"hive_class_b1\"\n",
    "\n",
    "def hiveconnection(host_name, port, user,password, database):\n",
    "  \n",
    "    conn = hive.Connection(host=host_name, port=port, username=user, password=password,\n",
    "                           database=database, auth='CUSTOM')\n",
    "    cur = conn.cursor()\n",
    "    cur.execute('select c.*,o.*  from monty.agentlogingreport c inner join monty.agentperformance o on (o.customer_id=c.id)')\n",
    "    result = cur.fetchall()\n",
    "\n",
    "    return result\n",
    "\n",
    "# Call above function\n",
    "output = hiveconnection(host_name, port, user,password, database)\n",
    "print(output)"
   ]
  },
  {
   "cell_type": "markdown",
   "id": "5da859ff",
   "metadata": {},
   "source": [
    "# Filter"
   ]
  },
  {
   "cell_type": "code",
   "execution_count": null,
   "id": "77c5c7ec",
   "metadata": {},
   "outputs": [],
   "source": [
    "from pyhive import hive\n",
    "host_name = \"192.168.56.101\"\n",
    "port = 22\n",
    "user = \"cloudera\"\n",
    "password = \"cloudera\"\n",
    "database=\"monty\"\n",
    "\n",
    "def hiveconnection(host_name, port, user,password, database):\n",
    "  \n",
    "    conn = hive.Connection(host=host_name, port=port, username=user, password=password,\n",
    "                           database=database, auth='CUSTOM')\n",
    "    cur = conn.cursor()\n",
    "    cur.execute('select nox , regexp_replace(nox,\"\\\\-\",\"\\\\$\") from monty.airqualityuci where  nox<0  limit 10')\n",
    "    result = cur.fetchall()\n",
    "\n",
    "    return result\n",
    "\n",
    "# Call above function\n",
    "output = hiveconnection(host_name, port, user,password, database)\n",
    "print(output)"
   ]
  },
  {
   "cell_type": "markdown",
   "id": "2836d5a4",
   "metadata": {},
   "source": [
    "# Drop table"
   ]
  },
  {
   "cell_type": "code",
   "execution_count": null,
   "id": "f58f90ef",
   "metadata": {},
   "outputs": [],
   "source": [
    "from pyhive import hive\n",
    "host_name = \"192.168.56.101\"\n",
    "port = 22\n",
    "user = \"cloudera\"\n",
    "password = \"cloudera\"\n",
    "database=\"monty\"\n",
    "\n",
    "def hiveconnection(host_name, port, user,password, database):\n",
    "  \n",
    "    conn = hive.Connection(host=host_name, port=port, username=user, password=password,\n",
    "                           database=database, auth='CUSTOM')\n",
    "    cur = conn.cursor()\n",
    "    cur.execute('drop table monty.airqualityuci')\n",
    "    #result = cur.fetchall()\n",
    "\n",
    "    return result\n",
    "\n",
    "# Call above function\n",
    "output = hiveconnection(host_name, port, user,password, database)\n",
    "print(output)"
   ]
  }
 ],
 "metadata": {
  "kernelspec": {
   "display_name": "Python 3 (ipykernel)",
   "language": "python",
   "name": "python3"
  },
  "language_info": {
   "codemirror_mode": {
    "name": "ipython",
    "version": 3
   },
   "file_extension": ".py",
   "mimetype": "text/x-python",
   "name": "python",
   "nbconvert_exporter": "python",
   "pygments_lexer": "ipython3",
   "version": "3.9.12"
  }
 },
 "nbformat": 4,
 "nbformat_minor": 5
}
